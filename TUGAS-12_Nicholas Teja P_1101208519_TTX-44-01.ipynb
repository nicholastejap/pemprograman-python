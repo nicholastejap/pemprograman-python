{
  "nbformat": 4,
  "nbformat_minor": 0,
  "metadata": {
    "colab": {
      "name": "Untitled2.ipynb",
      "provenance": [],
      "authorship_tag": "ABX9TyM1n1wc7u/kybHKN87/ksF/",
      "include_colab_link": true
    },
    "kernelspec": {
      "name": "python3",
      "display_name": "Python 3"
    }
  },
  "cells": [
    {
      "cell_type": "markdown",
      "metadata": {
        "id": "view-in-github",
        "colab_type": "text"
      },
      "source": [
        "<a href=\"https://colab.research.google.com/github/nicholastejap/pemprograman-python/blob/main/TUGAS-12_Nicholas%20Teja%20P_1101208519_TTX-44-01.ipynb\" target=\"_parent\"><img src=\"https://colab.research.google.com/assets/colab-badge.svg\" alt=\"Open In Colab\"/></a>"
      ]
    },
    {
      "cell_type": "code",
      "metadata": {
        "id": "_Sh2oxuknlju"
      },
      "source": [
        "import numpy as np"
      ],
      "execution_count": 1,
      "outputs": []
    },
    {
      "cell_type": "code",
      "metadata": {
        "id": "z2YhdrYqnmZW"
      },
      "source": [
        "NtL = lambda x: 10*np.log10(x)"
      ],
      "execution_count": 2,
      "outputs": []
    },
    {
      "cell_type": "code",
      "metadata": {
        "colab": {
          "base_uri": "https://localhost:8080/"
        },
        "id": "cffFkWswnmb3",
        "outputId": "c1c497b3-f983-46db-e6d5-378d896cbc56"
      },
      "source": [
        "z=NtL(1)\r\n",
        "print(z)"
      ],
      "execution_count": 3,
      "outputs": [
        {
          "output_type": "stream",
          "text": [
            "0.0\n"
          ],
          "name": "stdout"
        }
      ]
    },
    {
      "cell_type": "code",
      "metadata": {
        "id": "NZkc8-l9nmei"
      },
      "source": [
        "LtN = lambda x: 10**(x/10)"
      ],
      "execution_count": 4,
      "outputs": []
    },
    {
      "cell_type": "code",
      "metadata": {
        "colab": {
          "base_uri": "https://localhost:8080/"
        },
        "id": "x1-EKmfDnmhd",
        "outputId": "54cdb8b7-d0ef-4f45-fdff-b4dcb27e9978"
      },
      "source": [
        "y=LtN(0)\r\n",
        "print(y)"
      ],
      "execution_count": 5,
      "outputs": [
        {
          "output_type": "stream",
          "text": [
            "1.0\n"
          ],
          "name": "stdout"
        }
      ]
    },
    {
      "cell_type": "code",
      "metadata": {
        "colab": {
          "base_uri": "https://localhost:8080/"
        },
        "id": "pVoPoAdXnmkL",
        "outputId": "9fb7e93c-c7f4-4a6e-9305-8a1395637a2a"
      },
      "source": [
        "Lp = 46.3 + (33.9*np.log10(1800)) - (13.83*np.log10(100)) - ((((1.1*np.log10(1800))-0.7)*10) - ((1.56*np.log10(1800))-0.8)) + ((44.9-(6.55*np.log10(100)))*np.log10(10)) + 0\r\n",
        "print(Lp)"
      ],
      "execution_count": 6,
      "outputs": [
        {
          "output_type": "stream",
          "text": [
            "136.26396547482688\n"
          ],
          "name": "stdout"
        }
      ]
    },
    {
      "cell_type": "code",
      "metadata": {
        "colab": {
          "base_uri": "https://localhost:8080/"
        },
        "id": "Rx5l0WMxnmnJ",
        "outputId": "da766fb8-4da9-46fb-9490-d8dcc4b142c7"
      },
      "source": [
        "abc = 46.3 + (33.9*np.log10(1800)) - (13.82*np.log10(100))\r\n",
        "print(abc)"
      ],
      "execution_count": 7,
      "outputs": [
        {
          "output_type": "stream",
          "text": [
            "129.01373792300205\n"
          ],
          "name": "stdout"
        }
      ]
    },
    {
      "cell_type": "code",
      "metadata": {
        "colab": {
          "base_uri": "https://localhost:8080/"
        },
        "id": "TTNAn6yanmp3",
        "outputId": "18e1ea97-095e-465d-9d79-98d2f2f3e4ac"
      },
      "source": [
        "ahr = ((((1.1*np.log10(1800))-0.7)*10) - ((1.56*np.log10(1800))-0.8))\r\n",
        "print(ahr)"
      ],
      "execution_count": 8,
      "outputs": [
        {
          "output_type": "stream",
          "text": [
            "24.529772448175216\n"
          ],
          "name": "stdout"
        }
      ]
    },
    {
      "cell_type": "code",
      "metadata": {
        "colab": {
          "base_uri": "https://localhost:8080/"
        },
        "id": "jOtYABxanmsr",
        "outputId": "049b28be-5f36-40c5-861e-4dac3342010a"
      },
      "source": [
        "ef = (44.9-(6.55*np.log10(100)))*np.log10(10)\r\n",
        "print(ef)"
      ],
      "execution_count": 9,
      "outputs": [
        {
          "output_type": "stream",
          "text": [
            "31.799999999999997\n"
          ],
          "name": "stdout"
        }
      ]
    },
    {
      "cell_type": "code",
      "metadata": {
        "id": "EmYnGoZ2nmvV"
      },
      "source": [
        "def ploss (d, f, cm, ht, hr):\r\n",
        "  pldb= 46.3 + (33.9*np.log10(f)) - (13.83*np.log10(ht)) - ((((1.1*np.log10(f)) - 0.7) * hr) - ((1.56*np.log10(f)) - 0.8)) + ((44.9 - (6.55*np.log10(ht)))*np.log10(d)) + cm\r\n",
        "  plnum=LtN(-pldb)\r\n",
        "  return pldb,plnum"
      ],
      "execution_count": 10,
      "outputs": []
    },
    {
      "cell_type": "code",
      "metadata": {
        "colab": {
          "base_uri": "https://localhost:8080/"
        },
        "id": "wwHkVmiynmyH",
        "outputId": "1b05aef9-a784-43cf-e855-803902e7b650"
      },
      "source": [
        "pathlossdb, pathlossnum = ploss(30, 1900, 0, 150, 15)\r\n",
        "print(\"pathloss dalam db =\",pathlossdb,\"dB\")\r\n",
        "print(\"pathloss dalam numerik =\",pathlossnum,\"kali\")"
      ],
      "execution_count": 11,
      "outputs": [
        {
          "output_type": "stream",
          "text": [
            "pathloss dalam db = 133.33857373444505 dB\n",
            "pathloss dalam numerik = 4.635991452322962e-14 kali\n"
          ],
          "name": "stdout"
        }
      ]
    }
  ]
}