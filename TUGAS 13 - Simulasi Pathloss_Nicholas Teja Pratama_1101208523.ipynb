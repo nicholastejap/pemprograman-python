{
  "nbformat": 4,
  "nbformat_minor": 0,
  "metadata": {
    "colab": {
      "name": "Untitled3.ipynb",
      "provenance": [],
      "authorship_tag": "ABX9TyM+ghix6WKmVef991gIeii2",
      "include_colab_link": true
    },
    "kernelspec": {
      "name": "python3",
      "display_name": "Python 3"
    }
  },
  "cells": [
    {
      "cell_type": "markdown",
      "metadata": {
        "id": "view-in-github",
        "colab_type": "text"
      },
      "source": [
        "<a href=\"https://colab.research.google.com/github/nicholastejap/pemprograman-python/blob/main/TUGAS%2013%20-%20Simulasi%20Pathloss_Nicholas%20Teja%20Pratama_1101208523.ipynb\" target=\"_parent\"><img src=\"https://colab.research.google.com/assets/colab-badge.svg\" alt=\"Open In Colab\"/></a>"
      ]
    },
    {
      "cell_type": "code",
      "metadata": {
        "id": "cQaXtj-QwXIe"
      },
      "source": [
        "import numpy as np\r\n",
        "import matplotlib.pyplot as plt"
      ],
      "execution_count": 1,
      "outputs": []
    },
    {
      "cell_type": "code",
      "metadata": {
        "colab": {
          "base_uri": "https://localhost:8080/"
        },
        "id": "7fpAaw7PwXtT",
        "outputId": "2d8bed6c-1b39-4785-db52-7af36935b5a1"
      },
      "source": [
        "np.zeros(4)"
      ],
      "execution_count": 2,
      "outputs": [
        {
          "output_type": "execute_result",
          "data": {
            "text/plain": [
              "array([0., 0., 0., 0.])"
            ]
          },
          "metadata": {
            "tags": []
          },
          "execution_count": 2
        }
      ]
    },
    {
      "cell_type": "code",
      "metadata": {
        "colab": {
          "base_uri": "https://localhost:8080/"
        },
        "id": "BA-iRsvywX1T",
        "outputId": "5adf2504-9ccb-4c94-87ec-7ced74effec4"
      },
      "source": [
        "np.ones(3)"
      ],
      "execution_count": 3,
      "outputs": [
        {
          "output_type": "execute_result",
          "data": {
            "text/plain": [
              "array([1., 1., 1.])"
            ]
          },
          "metadata": {
            "tags": []
          },
          "execution_count": 3
        }
      ]
    },
    {
      "cell_type": "code",
      "metadata": {
        "colab": {
          "base_uri": "https://localhost:8080/"
        },
        "id": "8SxCqi-4wX5O",
        "outputId": "8952a23a-604f-496f-a390-870bb6267ead"
      },
      "source": [
        "np.zeros((3,4))"
      ],
      "execution_count": 4,
      "outputs": [
        {
          "output_type": "execute_result",
          "data": {
            "text/plain": [
              "array([[0., 0., 0., 0.],\n",
              "       [0., 0., 0., 0.],\n",
              "       [0., 0., 0., 0.]])"
            ]
          },
          "metadata": {
            "tags": []
          },
          "execution_count": 4
        }
      ]
    },
    {
      "cell_type": "code",
      "metadata": {
        "colab": {
          "base_uri": "https://localhost:8080/"
        },
        "id": "kT1Ao-nswX8j",
        "outputId": "bc3ee6f6-f9c6-4a0d-9a2d-2a5e6df0cb9a"
      },
      "source": [
        "np.ones((5,2))"
      ],
      "execution_count": 5,
      "outputs": [
        {
          "output_type": "execute_result",
          "data": {
            "text/plain": [
              "array([[1., 1.],\n",
              "       [1., 1.],\n",
              "       [1., 1.],\n",
              "       [1., 1.],\n",
              "       [1., 1.]])"
            ]
          },
          "metadata": {
            "tags": []
          },
          "execution_count": 5
        }
      ]
    },
    {
      "cell_type": "code",
      "metadata": {
        "colab": {
          "base_uri": "https://localhost:8080/"
        },
        "id": "UC3tKlrSwYDp",
        "outputId": "ae883569-c750-4fe2-fe8a-97cb60b74e7b"
      },
      "source": [
        "np.arange(10)"
      ],
      "execution_count": 6,
      "outputs": [
        {
          "output_type": "execute_result",
          "data": {
            "text/plain": [
              "array([0, 1, 2, 3, 4, 5, 6, 7, 8, 9])"
            ]
          },
          "metadata": {
            "tags": []
          },
          "execution_count": 6
        }
      ]
    },
    {
      "cell_type": "code",
      "metadata": {
        "colab": {
          "base_uri": "https://localhost:8080/"
        },
        "id": "OlJr1lXLwYHR",
        "outputId": "25f94d17-6104-4aa1-c499-69ff2b3b1978"
      },
      "source": [
        "np.arange(2,10)"
      ],
      "execution_count": 7,
      "outputs": [
        {
          "output_type": "execute_result",
          "data": {
            "text/plain": [
              "array([2, 3, 4, 5, 6, 7, 8, 9])"
            ]
          },
          "metadata": {
            "tags": []
          },
          "execution_count": 7
        }
      ]
    },
    {
      "cell_type": "code",
      "metadata": {
        "colab": {
          "base_uri": "https://localhost:8080/"
        },
        "id": "iNYPw5C5wYKP",
        "outputId": "90efe15a-9927-44fa-b938-6f41ab8e4063"
      },
      "source": [
        "np.arange(3,47,4)"
      ],
      "execution_count": 8,
      "outputs": [
        {
          "output_type": "execute_result",
          "data": {
            "text/plain": [
              "array([ 3,  7, 11, 15, 19, 23, 27, 31, 35, 39, 43])"
            ]
          },
          "metadata": {
            "tags": []
          },
          "execution_count": 8
        }
      ]
    },
    {
      "cell_type": "code",
      "metadata": {
        "colab": {
          "base_uri": "https://localhost:8080/"
        },
        "id": "QbuuJUDkwYNs",
        "outputId": "d0ddbf5a-e7f3-4c03-918c-2abd17a2179b"
      },
      "source": [
        "np.arange(4,5,0.1)"
      ],
      "execution_count": 9,
      "outputs": [
        {
          "output_type": "execute_result",
          "data": {
            "text/plain": [
              "array([4. , 4.1, 4.2, 4.3, 4.4, 4.5, 4.6, 4.7, 4.8, 4.9])"
            ]
          },
          "metadata": {
            "tags": []
          },
          "execution_count": 9
        }
      ]
    },
    {
      "cell_type": "code",
      "metadata": {
        "colab": {
          "base_uri": "https://localhost:8080/"
        },
        "id": "Eu3Hyyh7wYRG",
        "outputId": "41fafbaf-f84f-45df-8864-870c1ffead7d"
      },
      "source": [
        "np.arange(2,-4,-0.5)"
      ],
      "execution_count": 10,
      "outputs": [
        {
          "output_type": "execute_result",
          "data": {
            "text/plain": [
              "array([ 2. ,  1.5,  1. ,  0.5,  0. , -0.5, -1. , -1.5, -2. , -2.5, -3. ,\n",
              "       -3.5])"
            ]
          },
          "metadata": {
            "tags": []
          },
          "execution_count": 10
        }
      ]
    },
    {
      "cell_type": "code",
      "metadata": {
        "colab": {
          "base_uri": "https://localhost:8080/"
        },
        "id": "Twb4KKMgwYUJ",
        "outputId": "c69070d9-c6e9-4e06-d5d3-724c2c0e9d4e"
      },
      "source": [
        "np.linspace(2,10,4)"
      ],
      "execution_count": 11,
      "outputs": [
        {
          "output_type": "execute_result",
          "data": {
            "text/plain": [
              "array([ 2.        ,  4.66666667,  7.33333333, 10.        ])"
            ]
          },
          "metadata": {
            "tags": []
          },
          "execution_count": 11
        }
      ]
    },
    {
      "cell_type": "code",
      "metadata": {
        "colab": {
          "base_uri": "https://localhost:8080/"
        },
        "id": "qrZasCAKwYXZ",
        "outputId": "597ffbb2-4c5d-4326-f5d4-610a35bf3763"
      },
      "source": [
        "np.linspace(2,-4,4)"
      ],
      "execution_count": 12,
      "outputs": [
        {
          "output_type": "execute_result",
          "data": {
            "text/plain": [
              "array([ 2.,  0., -2., -4.])"
            ]
          },
          "metadata": {
            "tags": []
          },
          "execution_count": 12
        }
      ]
    },
    {
      "cell_type": "code",
      "metadata": {
        "id": "QxCh5e-DwYam"
      },
      "source": [
        "e=np.arange(0,20,2)"
      ],
      "execution_count": 13,
      "outputs": []
    },
    {
      "cell_type": "code",
      "metadata": {
        "colab": {
          "base_uri": "https://localhost:8080/"
        },
        "id": "VsozEU_swYeQ",
        "outputId": "433bf798-d2d5-426b-f895-13587475850d"
      },
      "source": [
        "len(e)"
      ],
      "execution_count": 14,
      "outputs": [
        {
          "output_type": "execute_result",
          "data": {
            "text/plain": [
              "10"
            ]
          },
          "metadata": {
            "tags": []
          },
          "execution_count": 14
        }
      ]
    },
    {
      "cell_type": "code",
      "metadata": {
        "colab": {
          "base_uri": "https://localhost:8080/"
        },
        "id": "ADUBwOknwYiF",
        "outputId": "c0c9e905-b4f2-4c8c-ea9c-75c5508b489a"
      },
      "source": [
        "e.reshape(5,2)"
      ],
      "execution_count": 15,
      "outputs": [
        {
          "output_type": "execute_result",
          "data": {
            "text/plain": [
              "array([[ 0,  2],\n",
              "       [ 4,  6],\n",
              "       [ 8, 10],\n",
              "       [12, 14],\n",
              "       [16, 18]])"
            ]
          },
          "metadata": {
            "tags": []
          },
          "execution_count": 15
        }
      ]
    },
    {
      "cell_type": "code",
      "metadata": {
        "colab": {
          "base_uri": "https://localhost:8080/"
        },
        "id": "rDxxcWWvwYls",
        "outputId": "179a8ada-df08-4989-e331-61571cb157e7"
      },
      "source": [
        "e.reshape(2,5)"
      ],
      "execution_count": 16,
      "outputs": [
        {
          "output_type": "execute_result",
          "data": {
            "text/plain": [
              "array([[ 0,  2,  4,  6,  8],\n",
              "       [10, 12, 14, 16, 18]])"
            ]
          },
          "metadata": {
            "tags": []
          },
          "execution_count": 16
        }
      ]
    },
    {
      "cell_type": "code",
      "metadata": {
        "colab": {
          "base_uri": "https://localhost:8080/"
        },
        "id": "T1vCqy1jwYsj",
        "outputId": "626c7bf7-375c-48ee-a020-10cb9a83e305"
      },
      "source": [
        "print(e)"
      ],
      "execution_count": 17,
      "outputs": [
        {
          "output_type": "stream",
          "text": [
            "[ 0  2  4  6  8 10 12 14 16 18]\n"
          ],
          "name": "stdout"
        }
      ]
    },
    {
      "cell_type": "code",
      "metadata": {
        "id": "2vPPyFOKwYv1"
      },
      "source": [
        "f=e.reshape(5,2)"
      ],
      "execution_count": 18,
      "outputs": []
    },
    {
      "cell_type": "code",
      "metadata": {
        "colab": {
          "base_uri": "https://localhost:8080/"
        },
        "id": "JN6xkxp1wYz9",
        "outputId": "d7fef1bc-c696-4fdd-8ef6-339688b9ec6c"
      },
      "source": [
        "print(f)"
      ],
      "execution_count": 19,
      "outputs": [
        {
          "output_type": "stream",
          "text": [
            "[[ 0  2]\n",
            " [ 4  6]\n",
            " [ 8 10]\n",
            " [12 14]\n",
            " [16 18]]\n"
          ],
          "name": "stdout"
        }
      ]
    },
    {
      "cell_type": "code",
      "metadata": {
        "colab": {
          "base_uri": "https://localhost:8080/"
        },
        "id": "4m4AAD-owY4_",
        "outputId": "3d715978-7ca3-4612-8755-c213d0ce1d31"
      },
      "source": [
        "np.random.random((3,4))"
      ],
      "execution_count": 20,
      "outputs": [
        {
          "output_type": "execute_result",
          "data": {
            "text/plain": [
              "array([[0.43844055, 0.63226223, 0.75565609, 0.0286665 ],\n",
              "       [0.50116619, 0.29177083, 0.08921791, 0.17587838],\n",
              "       [0.40427349, 0.21823522, 0.39918225, 0.37111551]])"
            ]
          },
          "metadata": {
            "tags": []
          },
          "execution_count": 20
        }
      ]
    },
    {
      "cell_type": "code",
      "metadata": {
        "colab": {
          "base_uri": "https://localhost:8080/"
        },
        "id": "fMJtGl3rwY9U",
        "outputId": "12ec8c5c-9c0d-4b38-d042-60490c5db648"
      },
      "source": [
        "np.random.randint(1,20,10)"
      ],
      "execution_count": 21,
      "outputs": [
        {
          "output_type": "execute_result",
          "data": {
            "text/plain": [
              "array([ 4, 12, 16, 19,  7, 14,  8, 13,  2, 12])"
            ]
          },
          "metadata": {
            "tags": []
          },
          "execution_count": 21
        }
      ]
    },
    {
      "cell_type": "code",
      "metadata": {
        "colab": {
          "base_uri": "https://localhost:8080/"
        },
        "id": "tgSQ9L8twZAt",
        "outputId": "284fadee-07af-4bc7-af11-bb122d3b0725"
      },
      "source": [
        "np.random.randn(3)"
      ],
      "execution_count": 22,
      "outputs": [
        {
          "output_type": "execute_result",
          "data": {
            "text/plain": [
              "array([-0.36553229,  1.39957724,  0.70782784])"
            ]
          },
          "metadata": {
            "tags": []
          },
          "execution_count": 22
        }
      ]
    },
    {
      "cell_type": "code",
      "metadata": {
        "id": "0q-gdmRtwZEy"
      },
      "source": [
        "def cos(frek,tipe,ht,hr,d):\r\n",
        "    if frek in range(150,1501):\r\n",
        "        Ca=69.55\r\n",
        "        Cb=26.16\r\n",
        "    elif frek in range(1501,2001):\r\n",
        "        Ca=46.3\r\n",
        "        Cb=33.9\r\n",
        "    \r\n",
        "    if tipe=='urban' :\r\n",
        "        Cm=0\r\n",
        "    elif tipe=='suburban' :\r\n",
        "        Cm= -2*((np.log10((frek/28)**2))-5.4)\r\n",
        "    elif tipe=='open' :\r\n",
        "        Cm= -4.78*(np.log10(frek))+18.33*(np.log10(frek))-40.94\r\n",
        "    else :\r\n",
        "        Cm='tipe salah'\r\n",
        "    \r\n",
        "    ahr = (1.1*np.log10(frek)-0.7)*hr-(1.56*np.log10(frek)-1.8)\r\n",
        "    Lp = Ca+(Cb*np.log10(frek))-(13.83*np.log(ht))-ahr+((44.9-6.55*np.log10(ht))*np.log10(d))-Cm\r\n",
        "    \r\n",
        "    return Lp"
      ],
      "execution_count": 23,
      "outputs": []
    },
    {
      "cell_type": "code",
      "metadata": {
        "id": "OuXwdD1DwZJA"
      },
      "source": [
        "f=1800 #MHz\r\n",
        "loc1='urban'\r\n",
        "loc2='open'\r\n",
        "loc3='suburban'\r\n",
        "tower=80 #m\r\n",
        "user=1.5 #m\r\n",
        "dmin=200 #m\r\n",
        "dmax=700 #m\r\n",
        "N=200 #titik\r\n",
        "d=np.random.randint(dmin,dmax,N)"
      ],
      "execution_count": 24,
      "outputs": []
    },
    {
      "cell_type": "code",
      "metadata": {
        "colab": {
          "base_uri": "https://localhost:8080/"
        },
        "id": "erIuHEMLwZMy",
        "outputId": "e653565c-1a8a-4c33-dca3-146a719b8805"
      },
      "source": [
        "print(d)"
      ],
      "execution_count": 25,
      "outputs": [
        {
          "output_type": "stream",
          "text": [
            "[638 616 421 427 526 260 280 352 271 630 682 271 391 453 675 403 480 641\n",
            " 468 509 393 234 263 564 671 362 424 547 247 319 305 297 327 677 512 691\n",
            " 337 541 693 250 294 248 625 233 205 631 608 401 522 394 303 248 635 250\n",
            " 418 474 360 636 327 672 248 600 269 302 450 362 666 466 241 611 265 296\n",
            " 311 278 666 687 323 462 661 472 316 473 269 640 489 493 329 325 398 681\n",
            " 273 619 464 554 457 530 436 650 362 397 310 437 643 621 207 647 222 503\n",
            " 640 560 227 532 339 632 514 357 632 499 206 694 246 254 600 487 699 487\n",
            " 305 383 682 367 283 400 222 454 217 652 257 335 648 545 643 274 252 384\n",
            " 605 240 503 232 650 255 301 501 491 514 343 384 445 527 506 652 264 338\n",
            " 581 228 393 395 507 426 449 228 542 383 219 260 353 314 348 681 620 212\n",
            " 505 243 573 215 417 363 589 619 532 697 466 340 466 229 393 543 432 403\n",
            " 354 633]\n"
          ],
          "name": "stdout"
        }
      ]
    },
    {
      "cell_type": "code",
      "metadata": {
        "id": "5uaYtoMjwZQL"
      },
      "source": [
        "LpUrban=cos(f,loc1,tower,user,d)\r\n",
        "LpOpen=cos(f,loc2,tower,user,d)\r\n",
        "LpSuburban=cos(f,loc3,tower,user,d)"
      ],
      "execution_count": 26,
      "outputs": []
    },
    {
      "cell_type": "code",
      "metadata": {
        "colab": {
          "base_uri": "https://localhost:8080/"
        },
        "id": "ZV-JTSkgwZTu",
        "outputId": "cadd9659-d3a6-49e5-cb20-7444ceda5db3"
      },
      "source": [
        "print(LpUrban, LpOpen, LpSuburban)"
      ],
      "execution_count": 27,
      "outputs": [
        {
          "output_type": "stream",
          "text": [
            "[185.98102224 185.48671757 180.12529653 180.3246334  183.26185621\n",
            " 173.3364174  174.3803199  177.60383665 173.9201115  185.80327556\n",
            " 186.92045278 173.9201115  179.08396756 181.15724431 186.77512553\n",
            " 179.50978046 181.97275265 186.04710322 181.61611999 182.79907828\n",
            " 179.15583628 171.85228415 173.49802037 184.24441408 186.69140322\n",
            " 177.99843493 180.22531757 183.81329845 172.61388787 176.2171864\n",
            " 175.58500555 175.21059846 176.56608938 186.81680082 182.88185758\n",
            " 187.10512569 176.99040572 183.65793397 187.14583739 172.78394512\n",
            " 175.06758974 172.67080204 185.69103403 171.79195756 169.98851806\n",
            " 185.82561694 185.30258113 179.43969953 183.15432715 179.19163359\n",
            " 175.4923326  172.67080204 185.91462979 172.78394512 180.02456019\n",
            " 181.79556493 177.92039464 185.9367954  176.56608938 186.7123805\n",
            " 172.67080204 185.11600572 173.81576852 175.44576648 181.06364771\n",
            " 177.99843493 186.58604568 181.5557934  172.26748753 185.37191467\n",
            " 173.6047348  175.16309002 175.85942145 174.27934286 186.58604568\n",
            " 187.0233476  176.39271811 181.43435956 186.47989418 181.73600358\n",
            " 176.0840871  181.76581574 173.81576852 186.02511066 182.23442403\n",
            " 182.34918016 176.65198134 176.47967047 179.33392003 186.89978332\n",
            " 174.02368724 185.55515287 181.49520734 183.99241742 181.28108017\n",
            " 183.36857064 180.61844739 186.24350631 177.99843493 179.29848294\n",
            " 175.81405511 180.65071828 186.09098562 185.60059238 170.12527872\n",
            " 186.17834241 171.11073201 182.63204584 186.02511066 184.14415574\n",
            " 171.42446965 183.42162621 177.07375648 185.84792294 182.93677476\n",
            " 177.80251748 185.84792294 182.51958027 170.05706436 187.1661492\n",
            " 172.55674281 173.00754089 185.11600572 182.17669346 187.26727123\n",
            " 182.17669346 175.58500555 178.79276882 186.92045278 178.19166482\n",
            " 174.53044108 179.40452789 171.11073201 181.18830549 170.78984712\n",
            " 186.28678204 173.17293892 176.90655882 186.20009722 183.76170046\n",
            " 186.09098562 174.07519091 172.89618665 178.82949958 185.23290462\n",
            " 172.20891681 182.63204584 171.7313715  186.24350631 173.06288963\n",
            " 175.39904592 182.5759253  182.29191895 182.93677476 177.23899284\n",
            " 178.82949958 180.90625794 183.2886107  182.71580964 186.28678204\n",
            " 173.55147864 177.03214275 184.66272611 171.48638728 179.15583628\n",
            " 179.22734017 182.74362058 180.29160587 181.03231012 171.48638728\n",
            " 183.68394734 178.79276882 170.91907957 173.3364174  177.64379763\n",
            " 175.99465037 177.44284933 186.89978332 185.57789095 170.46148173\n",
            " 182.68794368 172.38390337 184.46741986 170.65941807 179.99082068\n",
            " 178.03729354 184.85536142 185.55515287 183.42162621 187.22690949\n",
            " 181.5557934  177.11524764 181.5557934  171.54803393 179.15583628\n",
            " 183.70991276 180.48861939 179.50978046 177.68364557 185.87019368] [182.81207979 182.31777513 176.95635408 177.15569096 180.09291376\n",
            " 170.16747496 171.21137746 174.43489421 170.75116906 182.63433311\n",
            " 183.75151034 170.75116906 175.91502512 177.98830187 183.60618309\n",
            " 176.34083802 178.8038102  182.87816078 178.44717754 179.63013584\n",
            " 175.98689383 168.68334171 170.32907792 181.07547164 183.52246078\n",
            " 174.82949249 177.05637512 180.64435601 169.44494543 173.04824396\n",
            " 172.41606311 172.04165601 173.39714693 183.64785838 179.71291514\n",
            " 183.93618325 173.82146328 180.48899152 183.97689495 169.61500267\n",
            " 171.8986473  169.5018596  182.52209158 168.62301511 166.81957561\n",
            " 182.65667449 182.13363868 176.27075709 179.98538471 176.02269115\n",
            " 172.32339016 169.5018596  182.74568735 169.61500267 176.85561775\n",
            " 178.62662249 174.75145219 182.76785295 173.39714693 183.54343805\n",
            " 169.5018596  181.94706327 170.64682608 172.27682404 177.89470526\n",
            " 174.82949249 183.41710324 178.38685095 169.09854508 182.20297223\n",
            " 170.43579236 171.99414758 172.69047901 171.11040041 183.41710324\n",
            " 183.85440515 173.22377567 178.26541712 183.31095174 178.56706114\n",
            " 172.91514466 178.59687329 170.64682608 182.85616821 179.06548158\n",
            " 179.18023772 173.48303889 173.31072803 176.16497759 183.73084087\n",
            " 170.8547448  182.38621042 178.32626489 180.82347498 178.11213772\n",
            " 180.19962819 177.44950494 183.07456387 174.82949249 176.12954049\n",
            " 172.64511267 177.48177583 182.92204318 182.43164994 166.95633627\n",
            " 183.00939997 167.94178957 179.4631034  182.85616821 180.97521329\n",
            " 168.25552721 180.25268377 173.90481404 182.6789805  179.76783232\n",
            " 174.63357504 182.6789805  179.35063783 166.88812191 183.99720676\n",
            " 169.38780037 169.83859844 181.94706327 179.00775102 184.09832878\n",
            " 179.00775102 172.41606311 175.62382637 183.75151034 175.02272237\n",
            " 171.36149864 176.23558544 167.94178957 178.01936304 167.62090468\n",
            " 183.11783959 170.00399648 173.73761638 183.03115478 180.59275801\n",
            " 182.92204318 170.90624847 169.72724421 175.66055713 182.06396218\n",
            " 169.03997436 179.4631034  168.56242905 183.07456387 169.89394719\n",
            " 172.23010347 179.40698285 179.12297651 179.76783232 174.07005039\n",
            " 175.66055713 177.7373155  180.11966826 179.5468672  183.11783959\n",
            " 170.3825362  173.86320031 181.49378367 168.31744483 175.98689383\n",
            " 176.05839773 179.57467814 177.12266342 177.86336768 168.31744483\n",
            " 180.51500489 175.62382637 167.75013712 170.16747496 174.47485519\n",
            " 172.82570793 174.27390688 183.73084087 182.4089485  167.29253929\n",
            " 179.51900124 169.21496093 181.29847742 167.49047562 176.82187824\n",
            " 174.8683511  181.68641898 182.38621042 180.25268377 184.05796704\n",
            " 178.38685095 173.9463052  178.38685095 168.37909149 175.98689383\n",
            " 180.54097032 177.31967695 176.34083802 174.51470313 182.70125123] [182.41348013 181.91917547 176.55775442 176.7570913  179.6943141\n",
            " 169.7688753  170.8127778  174.03629454 170.3525694  182.23573345\n",
            " 183.35291068 170.3525694  175.51642546 177.58970221 183.20758343\n",
            " 175.94223836 178.40521054 182.47956112 178.04857788 179.23153618\n",
            " 175.58829417 168.28474204 169.93047826 180.67687198 183.12386112\n",
            " 174.43089283 176.65777546 180.24575635 169.04634577 172.6496443\n",
            " 172.01746345 171.64305635 172.99854727 183.24925872 179.31431548\n",
            " 183.53758359 173.42286362 180.09039186 183.57829529 169.21640301\n",
            " 171.50004764 169.10325994 182.12349192 168.22441545 166.42097595\n",
            " 182.25807483 181.73503902 175.87215743 179.58678505 175.62409149\n",
            " 171.9247905  169.10325994 182.34708769 169.21640301 176.45701809\n",
            " 178.22802283 174.35285253 182.36925329 172.99854727 183.14483839\n",
            " 169.10325994 181.54846361 170.24822642 171.87822438 177.4961056\n",
            " 174.43089283 183.01850358 177.98825129 168.69994542 181.80437257\n",
            " 170.0371927  171.59554792 172.29187935 170.71180075 183.01850358\n",
            " 183.45580549 172.82517601 177.86681746 182.91235208 178.16846148\n",
            " 172.516545   178.19827363 170.24822642 182.45756855 178.66688192\n",
            " 178.78163805 173.08443923 172.91212837 175.76637793 183.33224121\n",
            " 170.45614514 181.98761076 177.92766523 180.42487532 177.71353806\n",
            " 179.80102853 177.05090528 182.6759642  174.43089283 175.73094083\n",
            " 172.24651301 177.08317617 182.52344351 182.03305028 166.55773661\n",
            " 182.61080031 167.54318991 179.06450373 182.45756855 180.57661363\n",
            " 167.85692755 179.8540841  173.50621438 182.28038084 179.36923265\n",
            " 174.23497538 182.28038084 178.95203817 166.48952225 183.5986071\n",
            " 168.98920071 169.43999878 181.54846361 178.60915136 183.69972912\n",
            " 178.60915136 172.01746345 175.22522671 183.35291068 174.62412271\n",
            " 170.96289898 175.83698578 167.54318991 177.62076338 167.22230502\n",
            " 182.71923993 169.60539682 173.33901672 182.63255512 180.19415835\n",
            " 182.52344351 170.50764881 169.32864454 175.26195747 181.66536252\n",
            " 168.6413747  179.06450373 168.16382939 182.6759642  169.49534753\n",
            " 171.83150381 179.00838319 178.72437685 179.36923265 173.67145073\n",
            " 175.26195747 177.33871583 179.7210686  179.14826754 182.71923993\n",
            " 169.98393654 173.46460065 181.095184   167.91884517 175.58829417\n",
            " 175.65979807 179.17607848 176.72406376 177.46476802 167.91884517\n",
            " 180.11640523 175.22522671 167.35153746 169.7688753  174.07625553\n",
            " 172.42710827 173.87530722 183.33224121 182.01034884 166.89393963\n",
            " 179.12040158 168.81636127 180.89987776 167.09187596 176.42327858\n",
            " 174.46975144 181.28781931 181.98761076 179.8540841  183.65936738\n",
            " 177.98825129 173.54770554 177.98825129 167.98049183 175.58829417\n",
            " 180.14237066 176.92107729 175.94223836 174.11610347 182.30265157]\n"
          ],
          "name": "stdout"
        }
      ]
    },
    {
      "cell_type": "code",
      "metadata": {
        "colab": {
          "base_uri": "https://localhost:8080/",
          "height": 279
        },
        "id": "-CKw_GHHwZXk",
        "outputId": "0e81d017-5758-4c5c-88a5-4383022fd909"
      },
      "source": [
        "plt.figure()\r\n",
        "plt.plot(d,LpUrban)\r\n",
        "plt.plot(d,LpOpen)\r\n",
        "plt.plot(d,LpSuburban)\r\n",
        "plt.xlabel('Jarak (m)')\r\n",
        "plt.ylabel('Path Loss (dB)')\r\n",
        "plt.show()"
      ],
      "execution_count": 28,
      "outputs": [
        {
          "output_type": "display_data",
          "data": {
            "image/png": "[encoded data removed]",
            "text/plain": [
              "<Figure size 432x288 with 1 Axes>"
            ]
          },
          "metadata": {
            "tags": [],
            "needs_background": "light"
          }
        }
      ]
    },
    {
      "cell_type": "code",
      "metadata": {
        "id": "VGyFcBabwZb5"
      },
      "source": [
        "d_sort=d[np.argsort(d)]\r\n",
        "Urban_sort1=LpUrban[np.argsort(d)]\r\n",
        "Open_sort2=LpOpen[np.argsort(d)]\r\n",
        "Suburban_sort3=LpSuburban[np.argsort(d)]"
      ],
      "execution_count": 29,
      "outputs": []
    },
    {
      "cell_type": "code",
      "metadata": {
        "colab": {
          "base_uri": "https://localhost:8080/",
          "height": 295
        },
        "id": "RRmIKQ4gwZff",
        "outputId": "3577c14b-c3e6-4d56-db99-2dc42a20e1c8"
      },
      "source": [
        "plt.figure()\r\n",
        "plt.title('FREKUENSI 1800MHz (URBAN, OPEN, SUBURBAN)')\r\n",
        "plt.plot(d_sort,Urban_sort1, label='Urban')\r\n",
        "plt.plot(d_sort,Open_sort2, label=\"Open\")\r\n",
        "plt.plot(d_sort,Suburban_sort3, label=\"Suburban\")\r\n",
        "plt.legend()\r\n",
        "plt.xlabel('Jarak (m)')\r\n",
        "plt.ylabel('Path Loss (dB)')\r\n",
        "plt.show()"
      ],
      "execution_count": 30,
      "outputs": [
        {
          "output_type": "display_data",
          "data": {
            "image/png": "[encoded data removed]",
            "text/plain": [
              "<Figure size 432x288 with 1 Axes>"
            ]
          },
          "metadata": {
            "tags": [],
            "needs_background": "light"
          }
        }
      ]
    },
    {
      "cell_type": "code",
      "metadata": {
        "id": "eFYLDeR0wZjQ"
      },
      "source": [
        "def cos(frek,tipe,ht,hr,d):\r\n",
        "    if frek in range(150,1501):\r\n",
        "        Ca=69.55\r\n",
        "        Cb=26.16\r\n",
        "    elif frek in range(1501,2001):\r\n",
        "        Ca=46.3\r\n",
        "        Cb=33.9\r\n",
        "    \r\n",
        "    if tipe=='urban' :\r\n",
        "        Cm=0\r\n",
        "    elif tipe=='suburban' :\r\n",
        "        Cm= -2*((np.log10((frek/28)**2))-5.4)\r\n",
        "    elif tipe=='open' :\r\n",
        "        Cm= -4.78*(np.log10(frek))+18.33*(np.log10(frek))-40.94\r\n",
        "    else :\r\n",
        "        Cm='tipe salah'\r\n",
        "    \r\n",
        "    ahr = (1.1*np.log10(frek)-0.7)*hr-(1.56*np.log10(frek)-1.8)\r\n",
        "    Lp = Ca+(Cb*np.log10(frek))-(13.83*np.log(ht))-ahr+((44.9-6.55*np.log10(ht))*np.log10(d))-Cm\r\n",
        "    \r\n",
        "    return Lp"
      ],
      "execution_count": 31,
      "outputs": []
    },
    {
      "cell_type": "code",
      "metadata": {
        "id": "36wbKW8PwZms"
      },
      "source": [
        "f1=700 #MHz\r\n",
        "f2=900 #MHz\r\n",
        "f3=1800 #MHz\r\n",
        "loc='urban'\r\n",
        "tower=80 #m\r\n",
        "user=1.5 #m\r\n",
        "dmin=200 #m\r\n",
        "dmax=700 #m\r\n",
        "N=200 #titik\r\n",
        "d=np.random.randint(dmin,dmax,N)"
      ],
      "execution_count": 32,
      "outputs": []
    },
    {
      "cell_type": "code",
      "metadata": {
        "colab": {
          "base_uri": "https://localhost:8080/"
        },
        "id": "vfhTIRgawZq9",
        "outputId": "34f4a85d-0247-427a-f9e5-2d7bb278bf1b"
      },
      "source": [
        "print(d)"
      ],
      "execution_count": 33,
      "outputs": [
        {
          "output_type": "stream",
          "text": [
            "[521 674 224 285 258 353 588 258 462 696 327 559 277 645 571 591 265 408\n",
            " 563 388 520 346 576 538 419 431 654 365 333 228 404 470 251 473 295 685\n",
            " 233 324 691 570 546 300 441 463 476 486 602 347 558 698 423 484 648 318\n",
            " 643 641 662 486 658 284 469 655 253 248 378 330 493 492 617 467 439 527\n",
            " 201 699 359 317 516 637 225 552 670 213 551 674 247 493 549 408 392 580\n",
            " 443 384 695 287 368 555 566 458 336 585 495 531 236 285 359 442 300 314\n",
            " 370 416 532 337 522 628 578 382 531 506 565 539 445 519 583 240 624 686\n",
            " 626 388 687 680 418 211 627 673 574 485 512 316 433 445 207 576 620 489\n",
            " 376 263 448 257 514 652 220 662 520 581 349 295 278 622 577 524 225 445\n",
            " 200 569 305 585 279 254 226 275 296 622 353 465 601 535 563 269 314 440\n",
            " 473 459 530 232 654 329 212 309 564 637 549 482 562 596 630 503 212 551\n",
            " 526 616]\n"
          ],
          "name": "stdout"
        }
      ]
    },
    {
      "cell_type": "code",
      "metadata": {
        "id": "N3BVQShgwZuv"
      },
      "source": [
        "LpUrban700=cos(f1,loc,tower,user,d)\r\n",
        "LpUrban900=cos(f2,loc,tower,user,d)\r\n",
        "LpUrban1800=cos(f3,loc,tower,user,d)"
      ],
      "execution_count": 34,
      "outputs": []
    },
    {
      "cell_type": "code",
      "metadata": {
        "colab": {
          "base_uri": "https://localhost:8080/"
        },
        "id": "pAeoUEHZwZyz",
        "outputId": "c5492363-e749-4572-b2b9-fd5de9e4884e"
      },
      "source": [
        "print(LpUrban700, LpUrban900, LpUrban1800)"
      ],
      "execution_count": 35,
      "outputs": [
        {
          "output_type": "stream",
          "text": [
            "[170.48825865 174.11518407 158.59800934 161.99058285 160.58858533\n",
            " 165.00474014 172.19236809 160.58858533 168.79530207 174.56762767\n",
            " 163.92703188 171.47992176 161.58952409 173.49567424 171.77910974\n",
            " 172.26405393 160.96567731 167.0444149  171.58035882 166.33641476\n",
            " 170.46119575 164.72260292 171.90191991 170.94054687 167.41916158\n",
            " 167.81691707 173.69086772 165.47563315 164.18315235 158.84732978\n",
            " 166.90563312 169.03713183 160.20112018 169.12675824 162.47636332\n",
            " 174.34322233 159.15290006 163.79720389 174.4660682  171.75441869\n",
            " 171.14846559 162.71311238 168.14001008 168.82575881 169.215818\n",
            " 169.50868172 172.52382426 164.76325587 171.4547002  174.60804732\n",
            " 167.55299858 169.45059406 173.56103973 163.53390206 173.45192813\n",
            " 173.40804573 173.86213108 169.50868172 173.77675968 161.94107054\n",
            " 169.00712918 173.71238986 160.31291631 160.03174455 165.96860698\n",
            " 164.05567422 169.71012266 169.68152116 172.87050881 168.94693149\n",
            " 168.07598161 170.64955321 157.07189025 174.62821373 165.24215426\n",
            " 163.48953593 170.35242117 173.31986868 158.66075437 171.30241507\n",
            " 174.03133717 157.88871253 171.27687338 174.11518407 159.97483038\n",
            " 169.71012266 171.22565064 167.0444149  166.48089026 171.99940291\n",
            " 168.20374882 166.19044208 174.54737427 162.08908841 165.59093724\n",
            " 171.37876343 171.65521943 168.67281227 164.30948716 172.12031556\n",
            " 169.76715204 170.75606591 159.33311025 161.99058285 165.24215426\n",
            " 168.1719155  162.71311238 163.35559288 165.6672856  167.31794267\n",
            " 170.78256872 164.35134823 170.51526966 173.11942872 171.95074574\n",
            " 166.11688454 170.75606591 170.07675215 171.63031007 170.96670516\n",
            " 168.26720045 170.43408075 172.07207498 159.56985931 173.0294205\n",
            " 174.36377118 173.0744965  166.33641476 174.3842901  174.24002598\n",
            " 167.3855027  157.75582252 173.09698053 174.09426909 171.85292425\n",
            " 169.47966783 170.24280009 163.44502961 167.88213125 168.26720045\n",
            " 157.48622122 171.90191991 172.93883345 169.59536653 165.89387876\n",
            " 160.85896287 168.36184517 160.53388143 170.29771727 173.64772454\n",
            " 158.34419639 173.86213108 170.46119575 172.02366862 164.84421148\n",
            " 162.47636332 161.64028536 172.9841998  171.92635398 170.56913679\n",
            " 158.66075437 168.26720045 157.00163455 171.72968429 162.94594806\n",
            " 172.12031556 161.69086436 160.36848339 158.72322116 161.48744946\n",
            " 162.52403253 172.9841998  165.00474014 168.88647544 172.50040574\n",
            " 170.86177926 171.58035882 161.17671103 163.35559288 168.10803223\n",
            " 169.12675824 168.70353472 170.72951314 159.092314   173.69086772\n",
            " 164.01292384 157.82242424 163.12948469 171.60535659 173.31986868\n",
            " 171.22565064 169.39226587 171.55531661 172.38272555 173.16421806\n",
            " 169.99298835 157.82242424 171.27687338 170.62279871 172.84766008] [173.33365497 176.96058038 161.44340565 164.83597917 163.43398165\n",
            " 167.85013646 175.0377644  163.43398165 171.64069839 177.41302399\n",
            " 166.7724282  174.32531808 164.43492041 176.34107056 174.62450606\n",
            " 175.10945025 163.81107362 169.88981122 174.42575514 169.18181108\n",
            " 173.30659206 167.56799924 174.74731623 173.78594319 170.2645579\n",
            " 170.66231339 176.53626404 168.32102947 167.02854867 161.6927261\n",
            " 169.75102943 171.88252815 163.0465165  171.97215456 165.32175964\n",
            " 177.18861864 161.99829638 166.64260021 177.31146452 174.59981501\n",
            " 173.99386191 165.5585087  170.9854064  171.67115513 172.06121432\n",
            " 172.35407804 175.36922058 167.60865219 174.30009652 177.45344364\n",
            " 170.39839489 172.29599038 176.40643605 166.37929838 176.29732444\n",
            " 176.25344205 176.7075274  172.35407804 176.622156   164.78646686\n",
            " 171.8525255  176.55778618 163.15831263 162.87714086 168.8140033\n",
            " 166.90107053 172.55551898 172.52691748 175.71590512 171.79232781\n",
            " 170.92137793 173.49494953 159.91728657 177.47361005 168.08755058\n",
            " 166.33493224 173.19781749 176.165265   161.50615069 174.14781139\n",
            " 176.87673349 160.73410885 174.1222697  176.96058038 162.8202267\n",
            " 172.55551898 174.07104696 169.88981122 169.32628658 174.84479923\n",
            " 171.04914514 169.0358384  177.39277059 164.93448473 168.43633356\n",
            " 174.22415975 174.50061574 171.51820859 167.15488348 174.96571188\n",
            " 172.61254836 173.60146223 162.17850657 164.83597917 168.08755058\n",
            " 171.01731182 165.5585087  166.2009892  168.51268192 170.16333899\n",
            " 173.62796503 167.19674455 173.36066598 175.96482504 174.79614206\n",
            " 168.96228086 173.60146223 172.92214846 174.47570639 173.81210148\n",
            " 171.11259676 173.27947706 174.9174713  162.41525563 175.87481682\n",
            " 177.2091675  175.91989282 169.18181108 177.22968642 177.0854223\n",
            " 170.23089901 160.60121883 175.94237684 176.9396654  174.69832057\n",
            " 172.32506415 173.08819641 166.29042593 170.72752757 171.11259676\n",
            " 160.33161754 174.74731623 175.78422977 172.44076285 168.73927508\n",
            " 163.70435919 171.20724149 163.37927775 173.14311358 176.49312086\n",
            " 161.18959271 176.7075274  173.30659206 174.86906493 167.6896078\n",
            " 165.32175964 164.48568168 175.82959612 174.7717503  173.41453311\n",
            " 161.50615069 171.11259676 159.84703087 174.57508061 165.79134437\n",
            " 174.96571188 164.53626068 163.21387971 161.56861748 164.33284578\n",
            " 165.36942885 175.82959612 167.85013646 171.73187176 175.34580206\n",
            " 173.70717558 174.42575514 164.02210735 166.2009892  170.95342854\n",
            " 171.97215456 171.54893104 173.57490946 161.93771032 176.53626404\n",
            " 166.85832016 160.66782055 165.97488101 174.4507529  176.165265\n",
            " 174.07104696 172.23766219 174.40071293 175.22812186 176.00961438\n",
            " 172.83838466 160.66782055 174.1222697  173.46819503 175.6930564 ] [183.12731614 186.75424156 171.23706683 174.62964035 173.22764283\n",
            " 177.64379763 184.83142558 173.22764283 181.43435956 187.20668516\n",
            " 176.56608938 184.11897926 174.22858158 186.13473173 184.41816723\n",
            " 184.90311142 173.6047348  179.6834724  184.21941631 178.97547226\n",
            " 183.10025324 177.36166041 184.5409774  183.57960436 180.05821908\n",
            " 180.45597456 186.32992522 178.11469065 176.82220984 171.48638728\n",
            " 179.54469061 181.67618932 172.84017768 181.76581574 175.11542082\n",
            " 186.98227982 171.79195756 176.43626138 187.10512569 184.39347619\n",
            " 183.78752308 175.35216988 180.77906757 181.4648163  181.85487549\n",
            " 182.14773921 185.16288176 177.40231336 184.0937577  187.24710481\n",
            " 180.19205607 182.08965155 186.20009722 176.17295956 186.09098562\n",
            " 186.04710322 186.50118857 182.14773921 186.41581717 174.58012804\n",
            " 181.64618668 186.35144736 172.9519738  172.67080204 178.60766448\n",
            " 176.69473171 182.34918016 182.32057865 185.5095663  181.58598899\n",
            " 180.71503911 183.2886107  169.71094774 187.26727123 177.88121175\n",
            " 176.12859342 182.99147866 185.95892618 171.29981187 183.94147257\n",
            " 186.67039466 170.52777003 183.91593088 186.75424156 172.61388787\n",
            " 182.34918016 183.86470814 179.6834724  179.11994775 184.63846041\n",
            " 180.84280631 178.82949958 187.18643176 174.72814591 178.22999474\n",
            " 184.01782092 184.29427692 181.31186977 176.94854466 184.75937306\n",
            " 182.40620954 183.3951234  171.97216775 174.62964035 177.88121175\n",
            " 180.81097299 175.35216988 175.99465037 178.30634309 179.95700017\n",
            " 183.42162621 176.99040572 183.15432715 185.75848621 184.58980323\n",
            " 178.75594203 183.3951234  182.71580964 184.26936756 183.60576266\n",
            " 180.90625794 183.07313824 184.71113247 172.20891681 185.668478\n",
            " 187.00282867 185.713554   178.97547226 187.0233476  186.87908348\n",
            " 180.02456019 170.39488001 185.73603802 186.73332658 184.49198175\n",
            " 182.11872533 182.88185758 176.0840871  180.52118874 180.90625794\n",
            " 170.12527872 184.5409774  185.57789095 182.23442403 178.53293625\n",
            " 173.49802037 181.00090267 173.17293892 182.93677476 186.28678204\n",
            " 170.98325388 186.50118857 183.10025324 184.66272611 177.48326897\n",
            " 175.11542082 174.27934286 185.62325729 184.56541147 183.20819429\n",
            " 171.29981187 180.90625794 169.64069205 184.36874179 175.58500555\n",
            " 184.75937306 174.32992186 173.00754089 171.36227866 174.12650695\n",
            " 175.16309002 185.62325729 177.64379763 181.52553294 185.13946324\n",
            " 183.50083675 184.21941631 173.81576852 175.99465037 180.74708972\n",
            " 181.76581574 181.34259222 183.36857064 171.7313715  186.32992522\n",
            " 176.65198134 170.46148173 175.76854219 184.24441408 185.95892618\n",
            " 183.86470814 182.03132336 184.19437411 185.02178304 185.80327556\n",
            " 182.63204584 170.46148173 183.91593088 183.26185621 185.48671757]\n"
          ],
          "name": "stdout"
        }
      ]
    },
    {
      "cell_type": "code",
      "metadata": {
        "colab": {
          "base_uri": "https://localhost:8080/",
          "height": 279
        },
        "id": "tf54SbFhwZ2T",
        "outputId": "1fec2cb1-e09a-4b6d-c5e5-f4d34c9d9dd2"
      },
      "source": [
        "plt.figure()\r\n",
        "plt.plot(d,LpUrban700)\r\n",
        "plt.plot(d,LpUrban900)\r\n",
        "plt.plot(d,LpUrban1800)\r\n",
        "plt.xlabel('Jarak (m)')\r\n",
        "plt.ylabel('Path Loss (dB)')\r\n",
        "plt.show()"
      ],
      "execution_count": 36,
      "outputs": [
        {
          "output_type": "display_data",
          "data": {
            "image/png": "[encoded data removed]",
            "text/plain": [
              "<Figure size 432x288 with 1 Axes>"
            ]
          },
          "metadata": {
            "tags": [],
            "needs_background": "light"
          }
        }
      ]
    },
    {
      "cell_type": "code",
      "metadata": {
        "id": "pDRkIJiXwZ9X"
      },
      "source": [
        "d_sort=d[np.argsort(d)]\r\n",
        "Urban_sort1=LpUrban700[np.argsort(d)]\r\n",
        "Urban_sort2=LpUrban900[np.argsort(d)]\r\n",
        "Urban_sort3=LpUrban1800[np.argsort(d)]"
      ],
      "execution_count": 37,
      "outputs": []
    },
    {
      "cell_type": "code",
      "metadata": {
        "colab": {
          "base_uri": "https://localhost:8080/",
          "height": 295
        },
        "id": "yiECCKE9waAu",
        "outputId": "eadf78e7-a667-43d2-d1c9-ee889168b523"
      },
      "source": [
        "plt.figure()\r\n",
        "plt.plot(d_sort,Urban_sort1, label='700MHz')\r\n",
        "plt.plot(d_sort,Urban_sort2, label='900MHz')\r\n",
        "plt.plot(d_sort,Urban_sort3, label='1800MHz')\r\n",
        "plt.legend()\r\n",
        "plt.title('MODEL URBAN (700MHz, 900MHz, 1800MHz)')\r\n",
        "plt.xlabel('Jarak (m)')\r\n",
        "plt.ylabel('Path Loss (dB)')\r\n",
        "plt.show()"
      ],
      "execution_count": 38,
      "outputs": [
        {
          "output_type": "display_data",
          "data": {
            "image/png": "[encoded data removed]",
            "text/plain": [
              "<Figure size 432x288 with 1 Axes>"
            ]
          },
          "metadata": {
            "tags": [],
            "needs_background": "light"
          }
        }
      ]
    }
  ]
}